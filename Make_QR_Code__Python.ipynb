{
  "nbformat": 4,
  "nbformat_minor": 0,
  "metadata": {
    "colab": {
      "name": "Make QR Code__Python.ipynb",
      "provenance": [],
      "collapsed_sections": []
    },
    "kernelspec": {
      "name": "python3",
      "display_name": "Python 3"
    },
    "language_info": {
      "name": "python"
    }
  },
  "cells": [
    {
      "cell_type": "code",
      "execution_count": 7,
      "metadata": {
        "id": "Fk3NyQR5LN9H"
      },
      "outputs": [],
      "source": [
        "#!pip install pypng"
      ]
    },
    {
      "cell_type": "markdown",
      "source": [
        "https://pypi.org/project/pypng/"
      ],
      "metadata": {
        "id": "IZjiA80EMUUE"
      }
    },
    {
      "cell_type": "code",
      "source": [
        "#!pip install PyQRCode"
      ],
      "metadata": {
        "id": "VbuT121zLUC4"
      },
      "execution_count": 6,
      "outputs": []
    },
    {
      "cell_type": "markdown",
      "source": [
        "The pyqrcode module is a QR code generator that is simple to use and written in pure python. The module can automates most of the building process for creating QR codes. Most codes can be created using only two lines of code!\n",
        "\n",
        "Unlike other generators, all of the helpers can be controlled manually. You are free to set any or all of the properties of your QR code.\n",
        "\n",
        "QR codes can be saved as SVG, PNG (by using the pypng module), and plain text. They can also be displayed directly in most Linux terminal emulators. PIL is not used to render the image files.\n",
        "\n",
        "The pyqrcode module attempts to follow the QR code standard as closely as possible. The terminology and the encodings used in pyqrcode come directly from the standard. This module also follows the algorithm laid out in the standard."
      ],
      "metadata": {
        "id": "URpLGoguL8sI"
      }
    },
    {
      "cell_type": "code",
      "source": [
        "import pyqrcode\n",
        "import png"
      ],
      "metadata": {
        "id": "Famd4V5ILbHy"
      },
      "execution_count": 3,
      "outputs": []
    },
    {
      "cell_type": "code",
      "source": [
        "link = \"https://www.youtube.com/watch?v=hwTEqSRqHoI\"\n",
        "qr_code = pyqrcode.create(link)\n",
        "qr_code.png(\"Takla.png\", scale=5)"
      ],
      "metadata": {
        "id": "Gca1BuG5LbKl"
      },
      "execution_count": 4,
      "outputs": []
    },
    {
      "cell_type": "code",
      "source": [
        ""
      ],
      "metadata": {
        "id": "NgdhQq2xMrWs"
      },
      "execution_count": null,
      "outputs": []
    }
  ]
}